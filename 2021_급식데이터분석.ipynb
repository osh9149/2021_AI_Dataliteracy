{
  "nbformat": 4,
  "nbformat_minor": 0,
  "metadata": {
    "colab": {
      "name": "2021_급식데이터분석.ipynb",
      "provenance": [],
      "collapsed_sections": [],
      "include_colab_link": true
    },
    "kernelspec": {
      "name": "python3",
      "display_name": "Python 3"
    },
    "language_info": {
      "name": "python"
    }
  },
  "cells": [
    {
      "cell_type": "markdown",
      "metadata": {
        "id": "view-in-github",
        "colab_type": "text"
      },
      "source": [
        "<a href=\"https://colab.research.google.com/github/osh9149/2021_AI_Dataliteracy/blob/main/2021_%EA%B8%89%EC%8B%9D%EB%8D%B0%EC%9D%B4%ED%84%B0%EB%B6%84%EC%84%9D.ipynb\" target=\"_parent\"><img src=\"https://colab.research.google.com/assets/colab-badge.svg\" alt=\"Open In Colab\"/></a>"
      ]
    },
    {
      "cell_type": "markdown",
      "metadata": {
        "id": "fgn2g0jEgaUz"
      },
      "source": [
        "[ [급식데이터링크](https://open.neis.go.kr/portal/data/service/selectServicePage.do?page=1&rows=10&sortColumn=&sortDirection=&infId=OPEN17320190722180924242823&infSeq=1) ]"
      ]
    },
    {
      "cell_type": "code",
      "metadata": {
        "id": "1OVtj-Rd9gfW",
        "colab": {
          "base_uri": "https://localhost:8080/"
        },
        "outputId": "666beb26-3c14-422e-ecde-8f1cf3b54e15"
      },
      "source": [
        "!apt -qq -y install fonts-nanum"
      ],
      "execution_count": null,
      "outputs": [
        {
          "output_type": "stream",
          "name": "stdout",
          "text": [
            "The following NEW packages will be installed:\n",
            "  fonts-nanum\n",
            "0 upgraded, 1 newly installed, 0 to remove and 40 not upgraded.\n",
            "Need to get 9,604 kB of archives.\n",
            "After this operation, 29.5 MB of additional disk space will be used.\n",
            "Selecting previously unselected package fonts-nanum.\n",
            "(Reading database ... 148492 files and directories currently installed.)\n",
            "Preparing to unpack .../fonts-nanum_20170925-1_all.deb ...\n",
            "Unpacking fonts-nanum (20170925-1) ...\n",
            "Setting up fonts-nanum (20170925-1) ...\n",
            "Processing triggers for fontconfig (2.12.6-0ubuntu2) ...\n"
          ]
        }
      ]
    },
    {
      "cell_type": "code",
      "metadata": {
        "id": "rkITFQ7R9qTe"
      },
      "source": [
        "import matplotlib.pyplot as plt\n",
        "import matplotlib.font_manager as fm\n",
        "\n",
        "fontpath = '/usr/share/fonts/truetype/nanum/NanumGothic.ttf'\n",
        "font = fm.FontProperties(fname=fontpath, size=10)\n",
        "fm._rebuild()"
      ],
      "execution_count": null,
      "outputs": []
    },
    {
      "cell_type": "code",
      "metadata": {
        "colab": {
          "base_uri": "https://localhost:8080/"
        },
        "id": "LyZTRDmh0O7T",
        "outputId": "0ab558d1-780e-4444-9e79-78719dfe4c40"
      },
      "source": [
        "import csv\n",
        "data = csv.reader(open('급식식단정보.csv'))\n",
        "next(data)\n",
        "result = []\n",
        "for row in data :\n",
        "    if row:\n",
        "        print(row[10])"
      ],
      "execution_count": null,
      "outputs": [
        {
          "output_type": "stream",
          "name": "stdout",
          "text": [
            "642.1 Kcal\n",
            "628.9 Kcal\n",
            "799.1 Kcal\n",
            "716.7 Kcal\n",
            "714.7 Kcal\n",
            "859.9 Kcal\n",
            "670.8 Kcal\n",
            "742.6 Kcal\n",
            "1112.6 Kcal\n",
            "862.4 Kcal\n",
            "819.3 Kcal\n",
            "861.1 Kcal\n",
            "697.1 Kcal\n"
          ]
        }
      ]
    },
    {
      "cell_type": "code",
      "metadata": {
        "id": "RrUI-hv12z5Q",
        "colab": {
          "base_uri": "https://localhost:8080/",
          "height": 1000
        },
        "outputId": "43674903-a4e0-464b-c12f-00b153a6de38"
      },
      "source": [
        "import csv\n",
        "data = csv.reader(open('급식식단정보.csv'))\n",
        "next(data)\n",
        "result = []\n",
        "for row in data :\n",
        "    if row:\n",
        "        print(row[10])\n",
        "        result.append(float(row[10].split()[0]))\n",
        "print(result)\n",
        "\n",
        "import matplotlib.pyplot as plt\n",
        "plt.plot(result)\n",
        "plt.show()\n",
        "\n",
        "plt.bar(range(len(result)), result)\n",
        "plt.show()\n",
        "\n",
        "plt.boxplot(result)\n",
        "plt.show()"
      ],
      "execution_count": null,
      "outputs": [
        {
          "output_type": "stream",
          "name": "stdout",
          "text": [
            "642.1 Kcal\n",
            "628.9 Kcal\n",
            "799.1 Kcal\n",
            "716.7 Kcal\n",
            "714.7 Kcal\n",
            "859.9 Kcal\n",
            "670.8 Kcal\n",
            "742.6 Kcal\n",
            "1112.6 Kcal\n",
            "862.4 Kcal\n",
            "819.3 Kcal\n",
            "861.1 Kcal\n",
            "697.1 Kcal\n",
            "[642.1, 628.9, 799.1, 716.7, 714.7, 859.9, 670.8, 742.6, 1112.6, 862.4, 819.3, 861.1, 697.1]\n"
          ]
        },
        {
          "output_type": "display_data",
          "data": {
            "image/png": "[encoded data removed]",
            "text/plain": [
              "<Figure size 432x288 with 1 Axes>"
            ]
          },
          "metadata": {
            "needs_background": "light"
          }
        },
        {
          "output_type": "display_data",
          "data": {
            "image/png": "[encoded data removed]",
            "text/plain": [
              "<Figure size 432x288 with 1 Axes>"
            ]
          },
          "metadata": {
            "needs_background": "light"
          }
        },
        {
          "output_type": "display_data",
          "data": {
            "image/png": "[encoded data removed]",
            "text/plain": [
              "<Figure size 432x288 with 1 Axes>"
            ]
          },
          "metadata": {
            "needs_background": "light"
          }
        }
      ]
    },
    {
      "cell_type": "code",
      "metadata": {
        "colab": {
          "base_uri": "https://localhost:8080/"
        },
        "id": "yLm_EJQH3DHZ",
        "outputId": "63fee9e6-7eb0-416e-a46e-013afffaf640"
      },
      "source": [
        "#일치되는 부분을 리스트 형태로 저장\n",
        "import re\n",
        "text='ㅋㅋㅋ안녕하세요'\n",
        "re.compile('[ㄱ-ㅎ]+').findall(text)"
      ],
      "execution_count": null,
      "outputs": [
        {
          "output_type": "execute_result",
          "data": {
            "text/plain": [
              "['ㅋㅋㅋ']"
            ]
          },
          "metadata": {},
          "execution_count": 21
        }
      ]
    },
    {
      "cell_type": "code",
      "metadata": {
        "colab": {
          "base_uri": "https://localhost:8080/"
        },
        "id": "LGb5abvX34bR",
        "outputId": "626f23c5-6d31-4798-d820-609f957e3627"
      },
      "source": [
        "text='ㅋㅋㅋ안녕하ㅏㅗ세요'\n",
        "re.compile('[ㄱ-ㅎ|ㅏ-ㅣ]+').findall(text)"
      ],
      "execution_count": null,
      "outputs": [
        {
          "output_type": "execute_result",
          "data": {
            "text/plain": [
              "['ㅋㅋㅋ', 'ㅏㅗ']"
            ]
          },
          "metadata": {},
          "execution_count": 22
        }
      ]
    },
    {
      "cell_type": "code",
      "metadata": {
        "colab": {
          "base_uri": "https://localhost:8080/"
        },
        "id": "BDHr89Yk34j6",
        "outputId": "389253cd-4c4e-4fdf-cb36-3f63d8167c7c"
      },
      "source": [
        "text='ㅋㅋㅋ안녕하세요'\n",
        "re.compile('[가-힝]+').findall(text)"
      ],
      "execution_count": null,
      "outputs": [
        {
          "output_type": "execute_result",
          "data": {
            "text/plain": [
              "['안녕하세요']"
            ]
          },
          "metadata": {},
          "execution_count": 23
        }
      ]
    },
    {
      "cell_type": "code",
      "metadata": {
        "id": "zMzdZrCc-A6u",
        "colab": {
          "base_uri": "https://localhost:8080/"
        },
        "outputId": "b31262d1-d22f-4785-def5-4ad4637f0858"
      },
      "source": [
        "import csv\n",
        "import re\n",
        "import matplotlib.pyplot as plt\n",
        "data = csv.reader(open('급식식단정보.csv'))\n",
        "next(data)\n",
        "result = []\n",
        "for row in data :\n",
        "    if row:\n",
        "        menu = row[8]\n",
        "        result = result + re.compile('[가-힣]+').findall(menu)\n",
        "print(result)"
      ],
      "execution_count": null,
      "outputs": [
        {
          "output_type": "stream",
          "name": "stdout",
          "text": [
            "['칼슘현미밥', '호박고추장찌개', '양배추숙쌈', '콩나물무침', '돈육굴소스볶음', '어묵볶음', '깍두기', '과일', '옥수수알밥', '순두부된장국', '닭감자조림', '시금치나물', '볶음김치', '자율', '핫도그', '케찹', '푸딩', '마파두부덮밥', '달걀국', '비빔군만두', '깍두기', '과일', '우유', '돈육김치볶음밥', '황태콩나물국', '치킨텐더', '백김치', '후식', '음료', '열대과일샐러드', '칼슘수수밥', '초코파이', '요구르트', '바지락살미역국', '돼지갈비찜', '무말랭이무침', '버섯잡채', '배추김치', '후리가케밥', '메밀소바', '깻잎지', '한그릇떡볶이', '튀김류', '단무지', '자율', '덮밥용', '아이스망고', '칼슘현미밥', '빵', '후식', '감자양파국', '돼지고기김치찜', '파래자반', '완', '두부구이', '소스', '김치류', '하이라이스', '콩나물김칫국', '참나물무침', '그릴소시지', '감자튀김', '케찹', '깍두기', '후식', '음료', '오므라이스볶음밥', '조각피자', '우동', '단무지무침', '카프리제샐러드', '칼슘완두콩밥', '부대찌개', '날치알계란찜', '피쉬앤칩스', '구이김', '오이생채', '자율', '와플', '초코아이스크림', '산채비빔밥', '도토리묵사발', '찐빵', '닭꼬치', '소스', '총각김치', '칼슘흑미밥', '갈비탕', '돈', '쫄면야채무침', '가자미스테이크', '깍두기', '요구르트', '미트소스스파게티', '고기', '소프트바게트', '감바스샐러드', '새우', '군고구마', '피클', '단무지', '할라피뇨', '추가밥', '석식', '과일']\n"
          ]
        }
      ]
    },
    {
      "cell_type": "code",
      "metadata": {
        "colab": {
          "base_uri": "https://localhost:8080/"
        },
        "id": "N825eL7v5T3U",
        "outputId": "b0bd7c70-bfcd-4c2a-ded3-7e99d25763cb"
      },
      "source": [
        "#딕셔너리\n",
        "#{Key1:Value1, Key2:Value2, Key3:Value3, ...}\n",
        "dic = {'name':'김한양', 'phone':'0119993323', 'birth': '1118'}\n",
        "print(dic)"
      ],
      "execution_count": null,
      "outputs": [
        {
          "output_type": "stream",
          "name": "stdout",
          "text": [
            "{'name': '김한양', 'phone': '0119993323', 'birth': '1118'}\n"
          ]
        }
      ]
    },
    {
      "cell_type": "code",
      "metadata": {
        "colab": {
          "base_uri": "https://localhost:8080/"
        },
        "id": "j1ARL7hf5vFx",
        "outputId": "c07c63ec-482c-4dfd-c9a7-ebed9dbd9355"
      },
      "source": [
        "print(dic['name'])"
      ],
      "execution_count": null,
      "outputs": [
        {
          "output_type": "stream",
          "name": "stdout",
          "text": [
            "김한양\n"
          ]
        }
      ]
    },
    {
      "cell_type": "code",
      "metadata": {
        "colab": {
          "base_uri": "https://localhost:8080/"
        },
        "id": "Yw6MqyY05vIw",
        "outputId": "0843eed9-c4d8-49c7-e1dd-f53bc46d105c"
      },
      "source": [
        "dic['addr']='마조로 42'\n",
        "print(dic)"
      ],
      "execution_count": null,
      "outputs": [
        {
          "output_type": "stream",
          "name": "stdout",
          "text": [
            "{'name': '김한양', 'phone': '0119993323', 'birth': '1118', 'addr': '마조로 42'}\n"
          ]
        }
      ]
    },
    {
      "cell_type": "code",
      "metadata": {
        "colab": {
          "base_uri": "https://localhost:8080/",
          "height": 35
        },
        "id": "uYpw7yIC6cim",
        "outputId": "0743fa5c-dd75-4886-8ee3-709e0ee9f5fb"
      },
      "source": [
        "dic.get('phone')"
      ],
      "execution_count": null,
      "outputs": [
        {
          "output_type": "execute_result",
          "data": {
            "application/vnd.google.colaboratory.intrinsic+json": {
              "type": "string"
            },
            "text/plain": [
              "'0119993323'"
            ]
          },
          "metadata": {},
          "execution_count": 31
        }
      ]
    },
    {
      "cell_type": "code",
      "metadata": {
        "id": "cTMRRRsh-BBi",
        "colab": {
          "base_uri": "https://localhost:8080/"
        },
        "outputId": "10d12599-51d3-4191-ae27-3857d5fc70b0"
      },
      "source": [
        "result_dict = {}\n",
        "for item in result : \n",
        "  if item in result_dict :\n",
        "    result_dict[item] += 1\n",
        "  else :\n",
        "    result_dict[item] = 1\n",
        "print(result_dict)"
      ],
      "execution_count": null,
      "outputs": [
        {
          "output_type": "stream",
          "text": [
            "{'잡곡밥': 11, '우동국물': 2, '토마토비타민샐러드': 1, '쫄면': 1, '두부코코넛치즈돈까스': 1, '배추김치': 69, '돈까스소스': 1, '참깨드레싱': 1, '카레덮밥': 1, '콩나물국': 2, '소떡피자': 1, '깍두기': 20, '요구르트': 5, '마카로니샐러드': 2, '소고기곤드레밥': 1, '팽이장국': 1, '닭튀김': 1, '콘버터구이': 1, '양념장': 4, '달래': 1, '강정소스': 1, '김가루고명': 1, '오렌지': 1, '현미밥': 9, '참치김치찌개': 1, '부추생채': 3, '대패오리주물럭': 1, '야채전': 1, '무쌈': 1, '흑미밥': 6, '사골우거지국': 1, '볼어묵조림': 1, '세발나물무침': 1, '돼지고기짜장볶음': 2, '총각김치': 2, '산채나물비빔밥': 1, '북어국': 1, '미역초무침': 1, '사과': 1, '달걀후라이': 1, '뱅글뱅글쏘세지': 1, '학': 1, '약고추장': 1, '일회용케찹': 2, '멜론': 1, '오징어무국': 1, '미나리초무침': 2, '버섯': 1, '소불고기': 1, '달걀말이': 1, '약간밥': 2, '쌀밥': 8, '돼지고기된장라면': 1, '수제치킨또띠아': 2, '마늘쫑무침': 1, '오렌지쥬스': 2, '보리밥': 7, '쇠고기미역국': 3, '소고기미역국': 1, '매콤돼지갈비찜': 1, '잡채': 4, '시금치나물': 3, '우리쌀': 1, '생일설기': 1, '냉이된장국': 2, '봄동겉절이': 1, '불낙볶음': 2, '해물파전': 1, '양파초간장': 1, '추가': 2, '미트소스스파게티': 2, '크림소스스파게티': 2, '마늘빵': 1, '닭다리오븐구이': 3, '직화소스': 1, '완': 11, '오이피클': 1, '사과쥬스': 1, '양상추샐러드': 4, '키위드레싱': 1, '고추장찌개': 1, '돈육': 1, '돼지고기달걀장조림': 1, '계란장조림': 1, '참나물무침': 3, '가자미순살튀김': 1, '커틀렛': 1, '콘소스': 2, '비밥찜닭': 1, '다시마무채국': 1, '돌나물초장무침': 1, '왕새우튀김': 1, '마늘종타르타르소스': 1, '파인애플': 2, '감자수제비국': 2, '오이무침': 1, '식초': 1, '콩나물돼지고기고추장불고기': 1, '스크램블에그': 2, '스크램블드에그': 1, '소고기무국': 1, '알감자버터구이': 1, '눈꽃치즈불닭': 1, '무나물볶음': 1, '치즈불닭볶음': 1, '갈릭목살볶음밥': 1, '마늘볶음밥': 1, '유부장국': 1, '푸실리샐러드': 1, '노엣지베이컨파이브치즈피자': 1, '수제진짜딸기우유': 1, '삼색조랭이떡국': 2, '연근견과류조림': 1, '쭈삼불고기': 1, '주꾸미': 1, '대패삼겹': 1, '쭈꾸미두루치기': 1, '수제야채튀김': 1, '미니초간장': 1, '부대찌개': 3, '탕': 1, '돈사태찜': 1, '돼지갈비찜': 3, '크런치스파이시생선까스': 1, '생깻잎지': 1, '크리미양파드레싱': 1, '버섯매운국': 1, '소세지조림': 1, '바베큐소스': 1, '찜닭': 1, '콩나물무침': 3, '비엔나케찹볶음': 1, '비빔막국수': 1, '배추된장국': 2, '돈육보쌈': 1, '도톰해물완자전': 1, '보쌈김치': 4, '닭다리삼계탕': 1, '도토리묵무침': 4, '포테이토큐브핫도그': 1, '석박지': 5, '포도쥬스': 3, '생크림오레오와플': 1, '매운돼지갈비찜': 1, '삼색나물': 2, '수수밥': 4, '육개장': 3, '모듬장조림': 3, '근대무침': 2, '해물동그랑땡전': 1, '식목일케이크': 1, '김치볶음밥': 1, '유부된장국': 3, '순살파닭': 1, '스위트플럼쥬스': 1, '황도양상추샐러드': 1, '전주비빔밥': 1, '전주초코파이': 1, '전주식콩나물국': 1, '명엽채조림': 1, '떡갈비구이': 1, '순대국': 2, '삼색고구마조림': 1, '깻잎지': 1, '코다리강정': 1, '기장밥': 5, '삼색묵무침': 1, '쑥갓나물': 2, '연어구이': 1, '웨지감자': 1, '쇠고기무국': 3, '브로콜리된장무침': 1, '제육고추장볶음': 3, '계란말이': 3, '자장면': 1, '짬뽕': 1, '왕만두': 1, '단무지무침': 3, '후르츠탕수육': 1, '아이스망고': 1, '조랭이떡국': 1, '안동닭찜': 1, '견과류멸치볶음': 2, '볶음김치': 1, '찐두부': 1, '키위사과쥬스': 1, '미소된장국': 2, '청경채무침': 1, '고추참치덮밥': 1, '지파이타코': 1, '마카로니콘샐러드': 1, '찹쌀밥': 10, '궁중떡잡채': 1, '춘천식닭갈비': 1, '해물누룽지탕': 1, '쑥갓어묵탕': 3, '쫄면야채무침': 2, '오이지무침': 5, '제육버섯불고기': 2, '야채볶음밥': 1, '팽이버섯된장국': 1, '타워스테이크': 1, '된장찌개': 3, '상추겉절이': 1, '부들어묵맛살볶음': 1, '삼겹살로스구이': 1, '닭칼국수': 1, '연근호두조림': 1, '비엔나미트볼조림': 2, '바나나': 1, '혼합잡곡밥': 8, '계란찜': 2, '시금치무침': 1, '브리오슈수제버거': 1, '옥수수스프': 2, '마카롱케이크': 1, '모듬야채피클': 2, '닭곰탕': 1, '하트만두': 1, '비빔야채': 1, '아삭이고추무침': 1, '순살가자미커틀릿': 1, '바지락살미역국': 1, '숙주나물무침': 3, '묵은지목살찜': 1, '베이컨감자채전': 1, '열무김치': 2, '낙지볶음': 1, '사골우거지탕': 1, '소세지야채볶음': 1, '스위트자몽쥬스': 1, '옛날도시락비빔밥': 1, '가쓰오유부국': 2, '크리미어니언치킨': 1, '스마일감자튀김': 1, '케찹': 1, '쿠앤크아이스슈': 1, '짬뽕순두부': 1, '실곤약무침': 1, '폭찹': 1, '김밥볶음밥': 1, '꼬치어묵탕': 1, '국물떡볶이': 2, '김말이튀김': 1, '맛살튀김': 1, '돈육김치찌개': 2, '올방개묵김가루무침': 1, '미역줄기볶음': 2, '캠핑모듬구이': 1, '맑은무채국': 2, '눈꽃지즈제육덮밥': 1, '콘야채샐러드': 2, '메론': 1, '뼈다귀감자탕': 1, '참나물고추장무침': 2, '피망잡채': 1, '꽃빵': 2, '데리야끼삼치강정': 1, '북어무채국': 1, '우엉채땅콩조림': 1, '돈육계란장조림': 1, '매콤해물우동볶음': 1, '초코우유': 1, '도토리묵국': 1, '치즈불닭': 1, '두부구이': 3, '메추리알장조림': 1, '치커리사과생채': 2, '오삼불고기': 1, '오므라이스': 2, '노엣지페퍼로니피자': 1, '카프레제샐러드': 1, '청경채나물': 1, '오리훈제와': 1, '꺳잎무쌈': 1, '아욱된장국': 1, '진미채무침': 1, '장조림버터비빔밥': 1, '에이드팝': 1, '코울슬로': 2, '추가밥': 7, '베트남쌀국수': 1, '반미샌드위치': 1, '짜조': 1, '춘권': 1, '망고': 1, '제육보쌈': 1, '게맛살옥수수전': 1, '상추': 1, '깻잎쌈': 1, '컵과일': 1, '치킨마요덮밥': 1, '수제고구마또띠아피자': 1, '자두매실쥬스': 1, '우동': 1, '가츠샌드': 1, '열대과일샐러드': 1, '우리밀태극쿠키': 1, '골뱅이야채무침': 3, '제육굴소스볶음': 1, '갈비탕': 1, '동그랑땡전': 2, '유자청삼치구이': 1, '한라봉감귤쥬스': 1, '순두부찌개': 1, '카레라이스': 1, '크리미갈릭핫도그': 1, '유부맑은국': 2, '수제딸기요거트': 1, '토마토그린샐러드': 1, '춘천닭갈비': 1, '츄러스고구마맛탕': 1, '나가사키짬뽕': 1, '멕시칸샐러드': 1, '수제돈육강정': 1, '건새우아욱국': 1, '탕평채': 1, '김치치즈떡갈비': 1, '백김치': 1, '오미자쥬스': 1, '수리취떡': 1, '차조밥': 3, '호박고추장찌개': 3, '참치마요': 1, '구이김': 1, '데리야끼닭살볶음': 1, '야채스프': 1, '미트볼라따뚜이': 1, '수제레몬에이드': 1, '망고샐러드': 2, '오징어초무침': 1, '마늘쫑멸치볶음': 1, '삼색소보루비빔밥': 1, '살사치킨까스': 1, '참외': 1, '양배추샐러드': 1, '게란실파국': 1, '마파두부덮밥': 1, '고추잡채': 1, '만두탕수': 1, '근대된장국': 1, '콩나물맛살냉채': 2, '모듬야채전': 1, '철판김치볶음밥': 1, '팽이버섯장국': 1, '수제비프퀘사디아': 1, '파인애플쥬스': 1, '단호박고구마범벅': 1, '열무국수': 1, '요거트과일샐러드': 1, '피쉬앤칩스': 1, '가지나물': 1, '쌈채소': 1, '야채스틱': 1, '청국장찌개': 1, '모듬어묵탕': 1, '양배추쌈': 1, '제육볶음': 1, '돈코츠라멘': 1, '타코야끼': 1, '망고쥬스': 1, '블루베리샐러드': 1, '순살닭갈비덮밥': 1, '비엔나야채볶음': 1, '땡초멸치주먹밥': 1, '단무지': 1, '모듬튀김': 1, '쥬시쿨': 2, '콩나물밥': 2, '열무된장국': 2, '메밀면야채무침': 2, '마늘보쌈': 2, '치커리유자청무침': 1, '로제소스스파게티': 1, '페스츄리핫도그': 1, '청포도쥬스': 1, '모듬피클': 1, '시저샐러드': 1, '버섯샤브샤브': 1, '양파장아찌': 2, '돈육두반장볶음': 1, '부추야채전': 2, '수박': 1, '햄야채볶음밥': 1, '맑은유부국': 1, '새둥지강정': 1, '레몬워터젤리': 1, '왕만두떡국': 1, '도토리묵야채무침': 1, '돈육폭찹': 1, '우육면': 1, '대만식지파이': 1, '흑당버블티': 1, '잔치국수': 1, '오복지무침': 2, '과일샐러드': 2, '새우튀김또띠아': 1, '닭개장': 1, '오이부추무침': 1, '어묵볶음': 1, '아이스초코': 1, '자장밥': 1, '해물짬뽕국': 1, '꼬들단무지무침': 2, '수제탕수육': 1, '꽈리고추감자조림': 1, '오리불고기': 1, '떠먹는요구르트': 1, '딸기': 1, '시금치고추장무침': 1, '쭈꾸미삼겹살볶음': 1, '바지락칼국수': 1, '으깬감자샐러드': 1, '돈까스': 1, '파채소스': 1, '배추겉절이': 1, '모듬견과조림': 1, '참치마요덮밥': 1, '로제소스떡볶이': 1, '팽이버섯맑은국': 1, '츄러스아이스크림': 1, '모듬쌈겉절이': 1, '목살양념구이': 1, '구운야채': 1, '김치치즈밥버거': 1, '다시마무국': 1, '근대고추장국': 1, '도라지오이생채': 1, '해물우동볶음': 1, '순살닭볶음탕': 1, '사천자장면': 1, '계란실파국': 1, '토마토치즈군만두': 1, '맛동산쏘이탕수육': 1, '망고생크림와플': 1, '스팸김치짜글이': 1, '감자조림': 1, '호박볶음': 1, '숯불오리주물럭': 1, '크림스프': 1, '고구마무스돈까스': 1, '바나나블루베리샐러드': 1, '설렁탕': 1, '소면': 1, '생선커틀릿': 1, '서': 1, '흑향미밥': 1, '베이컨갈릭필라프': 1, '콘치즈함박': 1, '감귤쥬스': 1, '황도요거트샐러드': 1, '들꺠옹심이미역국': 1, '찹쌀콩멸치볶음': 1, '식혜': 1, '송편': 1, '떡만두국': 1, '꽈리고추메추리알조림': 1, '오징어두루치기': 1, '고구마맛탕': 1, '건새우호박전': 1, '낙삼새': 1, '씨앗호떡': 1, '하이라이스': 1, '고추마요치킨': 1, '치즈볼': 1}\n"
          ],
          "name": "stdout"
        }
      ]
    },
    {
      "cell_type": "code",
      "metadata": {
        "id": "D5rxn4NT9r-m",
        "colab": {
          "base_uri": "https://localhost:8080/"
        },
        "outputId": "4e6027a3-e31b-4de2-f0a7-4b3ddf72a988"
      },
      "source": [
        "for i in result_dict : \n",
        "  if '밥' in i :\n",
        "    print(i)"
      ],
      "execution_count": null,
      "outputs": [
        {
          "output_type": "stream",
          "text": [
            "잡곡밥\n",
            "카레덮밥\n",
            "소고기곤드레밥\n",
            "현미밥\n",
            "흑미밥\n",
            "산채나물비빔밥\n",
            "약간밥\n",
            "쌀밥\n",
            "보리밥\n",
            "비밥찜닭\n",
            "갈릭목살볶음밥\n",
            "마늘볶음밥\n",
            "수수밥\n",
            "김치볶음밥\n",
            "전주비빔밥\n",
            "기장밥\n",
            "고추참치덮밥\n",
            "찹쌀밥\n",
            "야채볶음밥\n",
            "혼합잡곡밥\n",
            "옛날도시락비빔밥\n",
            "김밥볶음밥\n",
            "눈꽃지즈제육덮밥\n",
            "장조림버터비빔밥\n",
            "추가밥\n",
            "치킨마요덮밥\n",
            "차조밥\n",
            "삼색소보루비빔밥\n",
            "마파두부덮밥\n",
            "철판김치볶음밥\n",
            "순살닭갈비덮밥\n",
            "땡초멸치주먹밥\n",
            "콩나물밥\n",
            "햄야채볶음밥\n",
            "자장밥\n",
            "참치마요덮밥\n",
            "김치치즈밥버거\n",
            "흑향미밥\n"
          ],
          "name": "stdout"
        }
      ]
    },
    {
      "cell_type": "code",
      "metadata": {
        "id": "SrzC6hwq9xEP",
        "colab": {
          "base_uri": "https://localhost:8080/"
        },
        "outputId": "c603e54f-b63b-432f-b1b2-04c7c5a239c9"
      },
      "source": [
        "import csv\n",
        "import re\n",
        "import matplotlib.pyplot as plt\n",
        "data = csv.reader(open('급식식단정보.csv'))\n",
        "next(data)\n",
        "result = []\n",
        "for row in data :\n",
        "    if row:\n",
        "        menu = row[8]\n",
        "        result = result + re.compile('[가-힣]+').findall(menu)\n",
        "\n",
        "result_dict = {}\n",
        "for item in result : \n",
        "  if item in result_dict :\n",
        "    result_dict[item] += 1\n",
        "  else :\n",
        "    result_dict[item] = 1\n",
        "\n",
        "print(result_dict)\n",
        "\n",
        "favorite = input('좋아하는 메뉴를 입력해주세요 : ')\n",
        "for i in result_dict : \n",
        "  if favorite in i :\n",
        "    print(i)"
      ],
      "execution_count": null,
      "outputs": [
        {
          "output_type": "stream",
          "name": "stdout",
          "text": [
            "{'칼슘현미밥': 2, '호박고추장찌개': 1, '양배추숙쌈': 1, '콩나물무침': 1, '돈육굴소스볶음': 1, '어묵볶음': 1, '깍두기': 4, '과일': 3, '옥수수알밥': 1, '순두부된장국': 1, '닭감자조림': 1, '시금치나물': 1, '볶음김치': 1, '자율': 3, '핫도그': 1, '케찹': 2, '푸딩': 1, '마파두부덮밥': 1, '달걀국': 1, '비빔군만두': 1, '우유': 1, '돈육김치볶음밥': 1, '황태콩나물국': 1, '치킨텐더': 1, '백김치': 1, '후식': 3, '음료': 2, '열대과일샐러드': 1, '칼슘수수밥': 1, '초코파이': 1, '요구르트': 2, '바지락살미역국': 1, '돼지갈비찜': 1, '무말랭이무침': 1, '버섯잡채': 1, '배추김치': 1, '후리가케밥': 1, '메밀소바': 1, '깻잎지': 1, '한그릇떡볶이': 1, '튀김류': 1, '단무지': 2, '덮밥용': 1, '아이스망고': 1, '빵': 1, '감자양파국': 1, '돼지고기김치찜': 1, '파래자반': 1, '완': 1, '두부구이': 1, '소스': 2, '김치류': 1, '하이라이스': 1, '콩나물김칫국': 1, '참나물무침': 1, '그릴소시지': 1, '감자튀김': 1, '오므라이스볶음밥': 1, '조각피자': 1, '우동': 1, '단무지무침': 1, '카프리제샐러드': 1, '칼슘완두콩밥': 1, '부대찌개': 1, '날치알계란찜': 1, '피쉬앤칩스': 1, '구이김': 1, '오이생채': 1, '와플': 1, '초코아이스크림': 1, '산채비빔밥': 1, '도토리묵사발': 1, '찐빵': 1, '닭꼬치': 1, '총각김치': 1, '칼슘흑미밥': 1, '갈비탕': 1, '돈': 1, '쫄면야채무침': 1, '가자미스테이크': 1, '미트소스스파게티': 1, '고기': 1, '소프트바게트': 1, '감바스샐러드': 1, '새우': 1, '군고구마': 1, '피클': 1, '할라피뇨': 1, '추가밥': 1, '석식': 1}\n",
            "좋아하는 메뉴를 입력해주세요 : 돈\n",
            "돈육굴소스볶음\n",
            "돈육김치볶음밥\n",
            "돈\n"
          ]
        }
      ]
    },
    {
      "cell_type": "code",
      "metadata": {
        "id": "02gLZzLqD_3t",
        "colab": {
          "base_uri": "https://localhost:8080/",
          "height": 899
        },
        "outputId": "cd140e38-3691-44e3-bf72-e3ab360082bb"
      },
      "source": [
        "import csv\n",
        "import re\n",
        "import matplotlib.pyplot as plt\n",
        "\n",
        "categories = ['탄수화물', '단백질', '지방']\n",
        "data = csv.reader(open('급식식단정보.csv'))\n",
        "next(data)\n",
        "result = []\n",
        "date = input('날짜를 입력해주세요 : (예:20210727)')\n",
        "for row in data :\n",
        "  if row and  row[6] == date : \n",
        "    nutrient = row[11]\n",
        "    result = re.compile('[0-9.]+').findall(nutrient)[:3]\n",
        "    plt.pie(result, autopct='%0.1f%%')\n",
        "    plt.legend(categories)"
      ],
      "execution_count": null,
      "outputs": [
        {
          "name": "stdout",
          "output_type": "stream",
          "text": [
            "날짜를 입력해주세요 : (예:20210727)20210903\n"
          ]
        },
        {
          "output_type": "stream",
          "name": "stderr",
          "text": [
            "/usr/local/lib/python3.7/dist-packages/matplotlib/backends/backend_agg.py:214: RuntimeWarning: Glyph 53444 missing from current font.\n",
            "  font.set_text(s, 0.0, flags=flags)\n",
            "/usr/local/lib/python3.7/dist-packages/matplotlib/backends/backend_agg.py:214: RuntimeWarning: Glyph 49688 missing from current font.\n",
            "  font.set_text(s, 0.0, flags=flags)\n",
            "/usr/local/lib/python3.7/dist-packages/matplotlib/backends/backend_agg.py:214: RuntimeWarning: Glyph 54868 missing from current font.\n",
            "  font.set_text(s, 0.0, flags=flags)\n",
            "/usr/local/lib/python3.7/dist-packages/matplotlib/backends/backend_agg.py:214: RuntimeWarning: Glyph 47932 missing from current font.\n",
            "  font.set_text(s, 0.0, flags=flags)\n",
            "/usr/local/lib/python3.7/dist-packages/matplotlib/backends/backend_agg.py:214: RuntimeWarning: Glyph 45800 missing from current font.\n",
            "  font.set_text(s, 0.0, flags=flags)\n",
            "/usr/local/lib/python3.7/dist-packages/matplotlib/backends/backend_agg.py:214: RuntimeWarning: Glyph 48177 missing from current font.\n",
            "  font.set_text(s, 0.0, flags=flags)\n",
            "/usr/local/lib/python3.7/dist-packages/matplotlib/backends/backend_agg.py:214: RuntimeWarning: Glyph 51656 missing from current font.\n",
            "  font.set_text(s, 0.0, flags=flags)\n",
            "/usr/local/lib/python3.7/dist-packages/matplotlib/backends/backend_agg.py:214: RuntimeWarning: Glyph 51648 missing from current font.\n",
            "  font.set_text(s, 0.0, flags=flags)\n",
            "/usr/local/lib/python3.7/dist-packages/matplotlib/backends/backend_agg.py:214: RuntimeWarning: Glyph 48169 missing from current font.\n",
            "  font.set_text(s, 0.0, flags=flags)\n",
            "/usr/local/lib/python3.7/dist-packages/matplotlib/backends/backend_agg.py:183: RuntimeWarning: Glyph 53444 missing from current font.\n",
            "  font.set_text(s, 0, flags=flags)\n",
            "/usr/local/lib/python3.7/dist-packages/matplotlib/backends/backend_agg.py:183: RuntimeWarning: Glyph 49688 missing from current font.\n",
            "  font.set_text(s, 0, flags=flags)\n",
            "/usr/local/lib/python3.7/dist-packages/matplotlib/backends/backend_agg.py:183: RuntimeWarning: Glyph 54868 missing from current font.\n",
            "  font.set_text(s, 0, flags=flags)\n",
            "/usr/local/lib/python3.7/dist-packages/matplotlib/backends/backend_agg.py:183: RuntimeWarning: Glyph 47932 missing from current font.\n",
            "  font.set_text(s, 0, flags=flags)\n",
            "/usr/local/lib/python3.7/dist-packages/matplotlib/backends/backend_agg.py:183: RuntimeWarning: Glyph 45800 missing from current font.\n",
            "  font.set_text(s, 0, flags=flags)\n",
            "/usr/local/lib/python3.7/dist-packages/matplotlib/backends/backend_agg.py:183: RuntimeWarning: Glyph 48177 missing from current font.\n",
            "  font.set_text(s, 0, flags=flags)\n",
            "/usr/local/lib/python3.7/dist-packages/matplotlib/backends/backend_agg.py:183: RuntimeWarning: Glyph 51656 missing from current font.\n",
            "  font.set_text(s, 0, flags=flags)\n",
            "/usr/local/lib/python3.7/dist-packages/matplotlib/backends/backend_agg.py:183: RuntimeWarning: Glyph 51648 missing from current font.\n",
            "  font.set_text(s, 0, flags=flags)\n",
            "/usr/local/lib/python3.7/dist-packages/matplotlib/backends/backend_agg.py:183: RuntimeWarning: Glyph 48169 missing from current font.\n",
            "  font.set_text(s, 0, flags=flags)\n"
          ]
        },
        {
          "output_type": "display_data",
          "data": {
            "image/png": "[encoded data removed]",
            "text/plain": [
              "<Figure size 432x288 with 1 Axes>"
            ]
          },
          "metadata": {}
        }
      ]
    },
    {
      "cell_type": "code",
      "metadata": {
        "id": "nY-e5rrQJOx6"
      },
      "source": [
        ""
      ],
      "execution_count": null,
      "outputs": []
    }
  ]
}